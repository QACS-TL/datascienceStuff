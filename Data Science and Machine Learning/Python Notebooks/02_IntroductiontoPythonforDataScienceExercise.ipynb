{
 "cells": [
  {
   "cell_type": "markdown",
   "id": "41eb2f26-b45e-4415-a326-9afe3d124e9c",
   "metadata": {},
   "source": [
    "# Module 2 Exercises: Introduction to Python for Data Science"
   ]
  },
  {
   "cell_type": "markdown",
   "id": "77f915ad-1ad6-4577-be47-8a5d8eb284c0",
   "metadata": {},
   "source": [
    "## Exercise 1 - Virtual Environments"
   ]
  },
  {
   "cell_type": "markdown",
   "id": "c87aa662-b756-4d1f-8d39-e581e7361624",
   "metadata": {},
   "source": [
    "Set up a virtual environment called `pds` using Anaconda Navigator. It should have the latest available version of Python installed.\n",
    "\n",
    "The virtual environment will need the following packages to be installed:\n",
    "* numpy\n",
    "* pandas\n",
    "* seaborn\n",
    "* matplotlib\n",
    "* scikit-learn"
   ]
  },
  {
   "cell_type": "code",
   "execution_count": 3,
   "id": "c0efa42a-2ea7-42b2-815e-fe4e442f6a7b",
   "metadata": {},
   "outputs": [
    {
     "name": "stdout",
     "output_type": "stream",
     "text": [
      "Collecting pandas\n",
      "  Downloading pandas-2.2.2-cp311-cp311-win_amd64.whl.metadata (19 kB)\n",
      "Requirement already satisfied: numpy>=1.23.2 in c:\\users\\yobi-work\\anaconda3\\envs\\pds\\lib\\site-packages (from pandas) (2.0.0)\n",
      "Requirement already satisfied: python-dateutil>=2.8.2 in c:\\users\\yobi-work\\anaconda3\\envs\\pds\\lib\\site-packages (from pandas) (2.9.0.post0)\n",
      "Requirement already satisfied: pytz>=2020.1 in c:\\users\\yobi-work\\anaconda3\\envs\\pds\\lib\\site-packages (from pandas) (2024.1)\n",
      "Collecting tzdata>=2022.7 (from pandas)\n",
      "  Downloading tzdata-2024.1-py2.py3-none-any.whl.metadata (1.4 kB)\n",
      "Requirement already satisfied: six>=1.5 in c:\\users\\yobi-work\\anaconda3\\envs\\pds\\lib\\site-packages (from python-dateutil>=2.8.2->pandas) (1.16.0)\n",
      "Downloading pandas-2.2.2-cp311-cp311-win_amd64.whl (11.6 MB)\n",
      "   ---------------------------------------- 0.0/11.6 MB ? eta -:--:--\n",
      "   ---------------------------------------- 0.1/11.6 MB 2.4 MB/s eta 0:00:05\n",
      "   - -------------------------------------- 0.5/11.6 MB 5.3 MB/s eta 0:00:03\n",
      "   --- ------------------------------------ 1.0/11.6 MB 6.1 MB/s eta 0:00:02\n",
      "   ---- ----------------------------------- 1.3/11.6 MB 6.9 MB/s eta 0:00:02\n",
      "   ----- ---------------------------------- 1.7/11.6 MB 7.1 MB/s eta 0:00:02\n",
      "   ------- -------------------------------- 2.1/11.6 MB 7.3 MB/s eta 0:00:02\n",
      "   -------- ------------------------------- 2.5/11.6 MB 7.6 MB/s eta 0:00:02\n",
      "   --------- ------------------------------ 2.8/11.6 MB 7.3 MB/s eta 0:00:02\n",
      "   --------- ------------------------------ 2.9/11.6 MB 7.1 MB/s eta 0:00:02\n",
      "   ----------- ---------------------------- 3.4/11.6 MB 7.3 MB/s eta 0:00:02\n",
      "   ------------- -------------------------- 3.9/11.6 MB 7.6 MB/s eta 0:00:02\n",
      "   -------------- ------------------------- 4.3/11.6 MB 7.6 MB/s eta 0:00:01\n",
      "   --------------- ------------------------ 4.6/11.6 MB 7.8 MB/s eta 0:00:01\n",
      "   ----------------- ---------------------- 5.0/11.6 MB 7.7 MB/s eta 0:00:01\n",
      "   ------------------ --------------------- 5.3/11.6 MB 7.7 MB/s eta 0:00:01\n",
      "   ------------------- -------------------- 5.7/11.6 MB 7.9 MB/s eta 0:00:01\n",
      "   -------------------- ------------------- 6.0/11.6 MB 7.9 MB/s eta 0:00:01\n",
      "   --------------------- ------------------ 6.4/11.6 MB 8.0 MB/s eta 0:00:01\n",
      "   ----------------------- ---------------- 6.7/11.6 MB 8.0 MB/s eta 0:00:01\n",
      "   ------------------------ --------------- 7.0/11.6 MB 8.0 MB/s eta 0:00:01\n",
      "   ------------------------- -------------- 7.3/11.6 MB 7.9 MB/s eta 0:00:01\n",
      "   -------------------------- ------------- 7.6/11.6 MB 7.9 MB/s eta 0:00:01\n",
      "   --------------------------- ------------ 8.0/11.6 MB 8.0 MB/s eta 0:00:01\n",
      "   ---------------------------- ----------- 8.4/11.6 MB 7.9 MB/s eta 0:00:01\n",
      "   ------------------------------ --------- 8.8/11.6 MB 7.9 MB/s eta 0:00:01\n",
      "   ------------------------------- -------- 9.2/11.6 MB 7.9 MB/s eta 0:00:01\n",
      "   -------------------------------- ------- 9.6/11.6 MB 8.0 MB/s eta 0:00:01\n",
      "   ---------------------------------- ----- 10.1/11.6 MB 8.1 MB/s eta 0:00:01\n",
      "   ----------------------------------- ---- 10.4/11.6 MB 8.3 MB/s eta 0:00:01\n",
      "   ------------------------------------- -- 10.8/11.6 MB 8.4 MB/s eta 0:00:01\n",
      "   -------------------------------------- - 11.1/11.6 MB 8.3 MB/s eta 0:00:01\n",
      "   ---------------------------------------  11.5/11.6 MB 8.4 MB/s eta 0:00:01\n",
      "   ---------------------------------------  11.6/11.6 MB 8.3 MB/s eta 0:00:01\n",
      "   ---------------------------------------  11.6/11.6 MB 8.3 MB/s eta 0:00:01\n",
      "   ---------------------------------------- 11.6/11.6 MB 7.7 MB/s eta 0:00:00\n",
      "Downloading tzdata-2024.1-py2.py3-none-any.whl (345 kB)\n",
      "   ---------------------------------------- 0.0/345.4 kB ? eta -:--:--\n",
      "   --------------------------------------  337.9/345.4 kB 10.6 MB/s eta 0:00:01\n",
      "   ---------------------------------------- 345.4/345.4 kB 7.1 MB/s eta 0:00:00\n",
      "Installing collected packages: tzdata, pandas\n",
      "Successfully installed pandas-2.2.2 tzdata-2024.1\n",
      "Note: you may need to restart the kernel to use updated packages.\n"
     ]
    },
    {
     "name": "stderr",
     "output_type": "stream",
     "text": [
      "ERROR: pip's dependency resolver does not currently take into account all the packages that are installed. This behaviour is the source of the following dependency conflicts.\n",
      "bamboolib 1.30.19 requires cryptography>=2.6.1, which is not installed.\n",
      "bamboolib 1.30.19 requires plotly<6.0.0,>=4.9.0, which is not installed.\n",
      "bamboolib 1.30.19 requires scikit-learn<2.0.0,>=0.20.2, which is not installed.\n",
      "bamboolib 1.30.19 requires statsmodels<1.0.0, which is not installed.\n",
      "bamboolib 1.30.19 requires toml>=0.10.0, which is not installed.\n",
      "bamboolib 1.30.19 requires xlrd>=1.0.0, which is not installed.\n",
      "ppscore 1.3.0 requires scikit-learn<2.0.0,>=0.20.2, which is not installed.\n",
      "bamboolib 1.30.19 requires pandas<2.0.0,>=1.1.0, but you have pandas 2.2.2 which is incompatible.\n",
      "ppscore 1.3.0 requires pandas<2.0.0,>=1.0.0, but you have pandas 2.2.2 which is incompatible.\n"
     ]
    },
    {
     "name": "stdout",
     "output_type": "stream",
     "text": [
      "Collecting seaborn\n",
      "  Downloading seaborn-0.13.2-py3-none-any.whl.metadata (5.4 kB)\n",
      "Requirement already satisfied: numpy!=1.24.0,>=1.20 in c:\\users\\yobi-work\\anaconda3\\envs\\pds\\lib\\site-packages (from seaborn) (2.0.0)\n",
      "Requirement already satisfied: pandas>=1.2 in c:\\users\\yobi-work\\anaconda3\\envs\\pds\\lib\\site-packages (from seaborn) (2.2.2)\n",
      "Collecting matplotlib!=3.6.1,>=3.4 (from seaborn)\n",
      "  Downloading matplotlib-3.9.1-cp311-cp311-win_amd64.whl.metadata (11 kB)\n",
      "Collecting contourpy>=1.0.1 (from matplotlib!=3.6.1,>=3.4->seaborn)\n",
      "  Downloading contourpy-1.2.1-cp311-cp311-win_amd64.whl.metadata (5.8 kB)\n",
      "Collecting cycler>=0.10 (from matplotlib!=3.6.1,>=3.4->seaborn)\n",
      "  Downloading cycler-0.12.1-py3-none-any.whl.metadata (3.8 kB)\n",
      "Collecting fonttools>=4.22.0 (from matplotlib!=3.6.1,>=3.4->seaborn)\n",
      "  Downloading fonttools-4.53.1-cp311-cp311-win_amd64.whl.metadata (165 kB)\n",
      "     ---------------------------------------- 0.0/165.9 kB ? eta -:--:--\n",
      "     -- ------------------------------------- 10.2/165.9 kB ? eta -:--:--\n",
      "     -- ------------------------------------- 10.2/165.9 kB ? eta -:--:--\n",
      "     -- ------------------------------------- 10.2/165.9 kB ? eta -:--:--\n",
      "     -----------------------------------  163.8/165.9 kB 978.3 kB/s eta 0:00:01\n",
      "     ------------------------------------ 165.9/165.9 kB 905.1 kB/s eta 0:00:00\n",
      "Collecting kiwisolver>=1.3.1 (from matplotlib!=3.6.1,>=3.4->seaborn)\n",
      "  Downloading kiwisolver-1.4.5-cp311-cp311-win_amd64.whl.metadata (6.5 kB)\n",
      "Requirement already satisfied: packaging>=20.0 in c:\\users\\yobi-work\\anaconda3\\envs\\pds\\lib\\site-packages (from matplotlib!=3.6.1,>=3.4->seaborn) (24.1)\n",
      "Collecting pillow>=8 (from matplotlib!=3.6.1,>=3.4->seaborn)\n",
      "  Downloading pillow-10.4.0-cp311-cp311-win_amd64.whl.metadata (9.3 kB)\n",
      "Collecting pyparsing>=2.3.1 (from matplotlib!=3.6.1,>=3.4->seaborn)\n",
      "  Downloading pyparsing-3.1.2-py3-none-any.whl.metadata (5.1 kB)\n",
      "Requirement already satisfied: python-dateutil>=2.7 in c:\\users\\yobi-work\\anaconda3\\envs\\pds\\lib\\site-packages (from matplotlib!=3.6.1,>=3.4->seaborn) (2.9.0.post0)\n",
      "Requirement already satisfied: pytz>=2020.1 in c:\\users\\yobi-work\\anaconda3\\envs\\pds\\lib\\site-packages (from pandas>=1.2->seaborn) (2024.1)\n",
      "Requirement already satisfied: tzdata>=2022.7 in c:\\users\\yobi-work\\anaconda3\\envs\\pds\\lib\\site-packages (from pandas>=1.2->seaborn) (2024.1)\n",
      "Requirement already satisfied: six>=1.5 in c:\\users\\yobi-work\\anaconda3\\envs\\pds\\lib\\site-packages (from python-dateutil>=2.7->matplotlib!=3.6.1,>=3.4->seaborn) (1.16.0)\n",
      "Downloading seaborn-0.13.2-py3-none-any.whl (294 kB)\n",
      "   ---------------------------------------- 0.0/294.9 kB ? eta -:--:--\n",
      "   ---------------------------------------- 294.9/294.9 kB 9.2 MB/s eta 0:00:00\n",
      "Downloading matplotlib-3.9.1-cp311-cp311-win_amd64.whl (8.0 MB)\n",
      "   ---------------------------------------- 0.0/8.0 MB ? eta -:--:--\n",
      "   - -------------------------------------- 0.4/8.0 MB 7.6 MB/s eta 0:00:01\n",
      "   ---- ----------------------------------- 0.8/8.0 MB 8.4 MB/s eta 0:00:01\n",
      "   ------ --------------------------------- 1.2/8.0 MB 8.6 MB/s eta 0:00:01\n",
      "   -------- ------------------------------- 1.6/8.0 MB 8.5 MB/s eta 0:00:01\n",
      "   ---------- ----------------------------- 2.0/8.0 MB 8.5 MB/s eta 0:00:01\n",
      "   ------------ --------------------------- 2.4/8.0 MB 8.6 MB/s eta 0:00:01\n",
      "   -------------- ------------------------- 2.8/8.0 MB 8.6 MB/s eta 0:00:01\n",
      "   ---------------- ----------------------- 3.2/8.0 MB 8.6 MB/s eta 0:00:01\n",
      "   ------------------ --------------------- 3.6/8.0 MB 8.6 MB/s eta 0:00:01\n",
      "   -------------------- ------------------- 4.0/8.0 MB 8.6 MB/s eta 0:00:01\n",
      "   ---------------------- ----------------- 4.4/8.0 MB 8.5 MB/s eta 0:00:01\n",
      "   ------------------------ --------------- 4.9/8.0 MB 8.6 MB/s eta 0:00:01\n",
      "   -------------------------- ------------- 5.2/8.0 MB 8.6 MB/s eta 0:00:01\n",
      "   ---------------------------- ----------- 5.7/8.0 MB 8.6 MB/s eta 0:00:01\n",
      "   ------------------------------ --------- 6.1/8.0 MB 8.6 MB/s eta 0:00:01\n",
      "   -------------------------------- ------- 6.5/8.0 MB 8.6 MB/s eta 0:00:01\n",
      "   ---------------------------------- ----- 6.9/8.0 MB 8.6 MB/s eta 0:00:01\n",
      "   ------------------------------------ --- 7.3/8.0 MB 8.6 MB/s eta 0:00:01\n",
      "   -------------------------------------- - 7.7/8.0 MB 8.6 MB/s eta 0:00:01\n",
      "   ---------------------------------------  8.0/8.0 MB 8.6 MB/s eta 0:00:01\n",
      "   ---------------------------------------  8.0/8.0 MB 8.6 MB/s eta 0:00:01\n",
      "   ---------------------------------------  8.0/8.0 MB 8.6 MB/s eta 0:00:01\n",
      "   ---------------------------------------- 8.0/8.0 MB 7.4 MB/s eta 0:00:00\n",
      "Downloading contourpy-1.2.1-cp311-cp311-win_amd64.whl (188 kB)\n",
      "   ---------------------------------------- 0.0/188.2 kB ? eta -:--:--\n",
      "   --------------------------------------- 188.2/188.2 kB 11.1 MB/s eta 0:00:00\n",
      "Downloading cycler-0.12.1-py3-none-any.whl (8.3 kB)\n",
      "Downloading fonttools-4.53.1-cp311-cp311-win_amd64.whl (2.2 MB)\n",
      "   ---------------------------------------- 0.0/2.2 MB ? eta -:--:--\n",
      "   ------- -------------------------------- 0.4/2.2 MB 8.5 MB/s eta 0:00:01\n",
      "   -------------- ------------------------- 0.8/2.2 MB 10.2 MB/s eta 0:00:01\n",
      "   ---------------------- ----------------- 1.3/2.2 MB 8.9 MB/s eta 0:00:01\n",
      "   ------------------------------ --------- 1.7/2.2 MB 8.9 MB/s eta 0:00:01\n",
      "   ------------------------------------- -- 2.1/2.2 MB 8.8 MB/s eta 0:00:01\n",
      "   ---------------------------------------  2.2/2.2 MB 8.8 MB/s eta 0:00:01\n",
      "   ---------------------------------------- 2.2/2.2 MB 6.7 MB/s eta 0:00:00\n",
      "Downloading kiwisolver-1.4.5-cp311-cp311-win_amd64.whl (56 kB)\n",
      "   ---------------------------------------- 0.0/56.1 kB ? eta -:--:--\n",
      "   ---------------------------------------- 56.1/56.1 kB 1.5 MB/s eta 0:00:00\n",
      "Downloading pillow-10.4.0-cp311-cp311-win_amd64.whl (2.6 MB)\n",
      "   ---------------------------------------- 0.0/2.6 MB ? eta -:--:--\n",
      "   ----- ---------------------------------- 0.4/2.6 MB 11.6 MB/s eta 0:00:01\n",
      "   ------------ --------------------------- 0.8/2.6 MB 10.1 MB/s eta 0:00:01\n",
      "   ------------------ --------------------- 1.2/2.6 MB 9.6 MB/s eta 0:00:01\n",
      "   ------------------------- -------------- 1.6/2.6 MB 9.3 MB/s eta 0:00:01\n",
      "   ------------------------------- -------- 2.0/2.6 MB 9.2 MB/s eta 0:00:01\n",
      "   -------------------------------------- - 2.4/2.6 MB 8.6 MB/s eta 0:00:01\n",
      "   ---------------------------------------  2.5/2.6 MB 8.6 MB/s eta 0:00:01\n",
      "   ---------------------------------------- 2.6/2.6 MB 7.1 MB/s eta 0:00:00\n",
      "Downloading pyparsing-3.1.2-py3-none-any.whl (103 kB)\n",
      "   ---------------------------------------- 0.0/103.2 kB ? eta -:--:--\n",
      "   ---------------------------------------- 103.2/103.2 kB 3.0 MB/s eta 0:00:00\n",
      "Installing collected packages: pyparsing, pillow, kiwisolver, fonttools, cycler, contourpy, matplotlib, seaborn\n",
      "Successfully installed contourpy-1.2.1 cycler-0.12.1 fonttools-4.53.1 kiwisolver-1.4.5 matplotlib-3.9.1 pillow-10.4.0 pyparsing-3.1.2 seaborn-0.13.2\n",
      "Note: you may need to restart the kernel to use updated packages.\n",
      "Requirement already satisfied: numpy in c:\\users\\yobi-work\\anaconda3\\envs\\pds\\lib\\site-packages (2.0.0)\n",
      "Note: you may need to restart the kernel to use updated packages.\n",
      "Requirement already satisfied: numpy in c:\\users\\yobi-work\\anaconda3\\envs\\pds\\lib\\site-packages (2.0.0)\n",
      "Note: you may need to restart the kernel to use updated packages.\n"
     ]
    }
   ],
   "source": [
    "%pip install numpy\n",
    "%pip install pandas\n",
    "%pip install seaborn\n",
    "%pip install numpy\n",
    "%pip install numpy"
   ]
  },
  {
   "cell_type": "code",
   "execution_count": null,
   "id": "51136736",
   "metadata": {},
   "outputs": [],
   "source": [
    "import numpy as np\n",
    "import pandas as pd\n",
    "import seaborn as sns\n",
    "import matplotlib.pyplot as plt"
   ]
  },
  {
   "cell_type": "markdown",
   "id": "3e97b751-023b-4428-b2e5-00203063a762",
   "metadata": {},
   "source": [
    "## Exercise 2 - Jupyter Notebooks"
   ]
  },
  {
   "cell_type": "markdown",
   "id": "21a0ab4d-76b5-4daf-81f3-5bf04a35b277",
   "metadata": {},
   "source": [
    "Create a new notebook.\n",
    "\n",
    "Experiment with the keyboard shortcuts in Command mode, e.g.\n",
    "- adding cells above and below\n",
    "- deleting cells\n",
    "- changing from markdown to code and verifying, i.e entering some text or code and running to check"
   ]
  },
  {
   "cell_type": "markdown",
   "id": "cad5770b-1546-4508-960b-07a312ac7455",
   "metadata": {},
   "source": [
    "### 3.1 - Display a message using variables\n",
    "\n",
    "Create two variables to hold a person's name and age.\n",
    "\n",
    "Display the persons name & age with a space in between\n",
    "\n",
    "Alter the code so that `.` is between the person's name & age.\n",
    "\n",
    "Alter the code so that the person's name is displayed in uppercase."
   ]
  },
  {
   "cell_type": "code",
   "execution_count": 2,
   "id": "5619ac65",
   "metadata": {},
   "outputs": [],
   "source": [
    "name = \"pete\"\n",
    "age = 21\n"
   ]
  },
  {
   "cell_type": "code",
   "execution_count": 4,
   "id": "1690f18d",
   "metadata": {},
   "outputs": [
    {
     "name": "stdout",
     "output_type": "stream",
     "text": [
      "PETE.21\n"
     ]
    }
   ],
   "source": [
    "print(f\"{str.upper(name)}.{age}\")"
   ]
  },
  {
   "cell_type": "markdown",
   "id": "298dce05-78c0-44fb-bf4f-1c533796847d",
   "metadata": {},
   "source": [
    "### 3.2 - Casting variables\n",
    "\n",
    "Capture user input to get the length of the first side of a rectangle.\n",
    "\n",
    "Use a suitable variable name such as length.\n",
    "\n",
    "You must cast (convert) the text you input to an integer type (int)."
   ]
  },
  {
   "cell_type": "code",
   "execution_count": 9,
   "id": "dbb29342-c2f5-4113-8f5a-a7edc9c85fbe",
   "metadata": {},
   "outputs": [
    {
     "name": "stdout",
     "output_type": "stream",
     "text": [
      "Please enter  length 15\n"
     ]
    }
   ],
   "source": [
    "length = int(input(\"Please enter  length 1\"))"
   ]
  },
  {
   "cell_type": "markdown",
   "id": "5fb584ba-de13-418d-bc52-bb3df2cad1fb",
   "metadata": {},
   "source": [
    "Input the length of the second side of the rectangle.\n",
    "\n",
    "Use a suitable variable name such as width.\n",
    "\n",
    "Again, cast the input text to an integer type (int).\n"
   ]
  },
  {
   "cell_type": "code",
   "execution_count": 10,
   "id": "3f706a57-9bac-448e-8bd0-6e9ff6b7e910",
   "metadata": {},
   "outputs": [
    {
     "name": "stdout",
     "output_type": "stream",
     "text": [
      "Please enter length 26\n"
     ]
    }
   ],
   "source": [
    "width = int(input(\"Please enter length 2\"))"
   ]
  },
  {
   "cell_type": "markdown",
   "id": "762cc5a9-4fff-4a13-a44e-17979e9999e5",
   "metadata": {},
   "source": [
    "Calculate and display the perimeter of the rectangle. "
   ]
  },
  {
   "cell_type": "code",
   "execution_count": 11,
   "id": "2915915c",
   "metadata": {},
   "outputs": [
    {
     "name": "stdout",
     "output_type": "stream",
     "text": [
      "perimeter of rectangle os length:5 and width: 6 is 22\n"
     ]
    }
   ],
   "source": [
    "print (f\"perimeter of rectangle os length:{length} and width: {width} is {length * 2 + width * 2}\")"
   ]
  },
  {
   "cell_type": "markdown",
   "id": "4b7e7323-d456-424d-8044-14c40b9a015a",
   "metadata": {},
   "source": [
    "### 3.3 - Data Structures\n",
    "Using the below data structures, complete the following tasks:\n",
    "* Display the length of the `ages` list\n",
    "* Display the `ages` from the third position to the last.\n",
    "* Find the position of the first occurence of the word 'forever' in `byron`\n",
    "* Print the second of the `desserts`.\n",
    "* Check if pancakes are included in `desserts`.\n",
    "* Print the title value from `books`."
   ]
  },
  {
   "cell_type": "code",
   "execution_count": 13,
   "id": "f7661c65-78be-447b-9f73-283dcef5f01f",
   "metadata": {},
   "outputs": [],
   "source": [
    "ages = [12,18,33,84,45,67,12,82,95,16,10,23,43,29,40,34,30,16,44,69,70,74,38,65,36,83,50,11,79,64,78,37,3,8,68,22,4,60,33,82,45,23,5,18,28,99,17,81,14,88,50,19,59,7,44,93,35,72,25,63,11,69,11,76,10,60,30,14,21,82,47,6,21,88,46,78,92,48,36,28,51]\n",
    "byron = 'Fare thee well and if forever still forever fare thee well'\n",
    "desserts = 'sticky toffee pudding', 'affogato', 'syrup sponge'\n",
    "books = {\n",
    "  \"title\": \"Hamlet\",\n",
    "  \"author\": \"William Shakespeare\",\n",
    "  \"language\": \"English\"\n",
    "}"
   ]
  },
  {
   "cell_type": "code",
   "execution_count": 21,
   "id": "97608e66",
   "metadata": {},
   "outputs": [
    {
     "name": "stdout",
     "output_type": "stream",
     "text": [
      "81\n",
      "[33, 84, 45, 67, 12, 82, 95, 16, 10, 23, 43, 29, 40, 34, 30, 16, 44, 69, 70, 74, 38, 65, 36, 83, 50, 11, 79, 64, 78, 37, 3, 8, 68, 22, 4, 60, 33, 82, 45, 23, 5, 18, 28, 99, 17, 81, 14, 88, 50, 19, 59, 7, 44, 93, 35, 72, 25, 63, 11, 69, 11, 76, 10, 60, 30, 14, 21, 82, 47, 6, 21, 88, 46, 78, 92, 48, 36, 28, 51]\n",
      "22\n"
     ]
    },
    {
     "data": {
      "text/plain": [
       "'Hamlet'"
      ]
     },
     "execution_count": 21,
     "metadata": {},
     "output_type": "execute_result"
    }
   ],
   "source": [
    "print(len(ages))\n",
    "print(ages[2:])\n",
    "print(byron.index(\"forever\"))\n",
    "byron.find(\"forever\")\n",
    "desserts[1]\n",
    "\"pancakes\" in desserts\n",
    "books[\"title\"]\n"
   ]
  },
  {
   "cell_type": "markdown",
   "id": "f8315ddc-7185-43b4-b9db-d6bc4d5a1ccd",
   "metadata": {},
   "source": [
    "### 3.4 - Functions\n",
    "\n",
    "\n",
    "Write a function that takes a string as an argument and returns the number of capital letters in the string.\n",
    "\n",
    "Hint: `'foo'.upper()` returns `'FOO'`."
   ]
  },
  {
   "cell_type": "code",
   "execution_count": 23,
   "id": "91223f26-7a4d-4ac4-9688-1c625430d8a8",
   "metadata": {},
   "outputs": [
    {
     "data": {
      "text/plain": [
       "3"
      ]
     },
     "execution_count": 23,
     "metadata": {},
     "output_type": "execute_result"
    }
   ],
   "source": [
    "def capitals_count(text):\n",
    "    count = 0\n",
    "    for c in text:\n",
    "        if c.isupper():\n",
    "            count += 1\n",
    "    return count\n",
    "\n",
    "capitals_count(\"the Quick Brown foX\")"
   ]
  },
  {
   "cell_type": "markdown",
   "id": "548e210f-4759-42a1-9764-c7cc41bb3515",
   "metadata": {},
   "source": [
    "Write a function that takes two sequences `seq_a` and `seq_b` as arguments and\n",
    "returns `True` if every element in `seq_a` is also an element of `seq_b`, else\n",
    "`False`.\n",
    "\n",
    "- By “sequence” we mean a list, a tuple or a string.  \n",
    "- Do the exercise without using [sets](https://docs.python.org/3/tutorial/datastructures.html#sets) and set methods.  "
   ]
  },
  {
   "cell_type": "code",
   "execution_count": 28,
   "id": "6cdbf661-73c1-4412-b5fe-85fdb983afc9",
   "metadata": {},
   "outputs": [],
   "source": [
    "def sequence_checker(seq_a, seq_b):\n",
    "    if len(seq_a) != len(seq_b):\n",
    "        return False\n",
    "    for i in range(0, len(seq_a)):\n",
    "        if seq_a[i] != seq_b[i]:\n",
    "            return False\n",
    "    return True"
   ]
  },
  {
   "cell_type": "code",
   "execution_count": 29,
   "id": "fd6596e6",
   "metadata": {},
   "outputs": [
    {
     "data": {
      "text/plain": [
       "True"
      ]
     },
     "execution_count": 29,
     "metadata": {},
     "output_type": "execute_result"
    }
   ],
   "source": [
    "sequence_checker(\"these strings are identical\", \"these strings are identical\")"
   ]
  },
  {
   "cell_type": "code",
   "execution_count": 30,
   "id": "9cd4689b",
   "metadata": {},
   "outputs": [
    {
     "data": {
      "text/plain": [
       "False"
      ]
     },
     "execution_count": 30,
     "metadata": {},
     "output_type": "execute_result"
    }
   ],
   "source": [
    "sequence_checker(\"these strings are identical\", \"these strings are note identical\")"
   ]
  },
  {
   "cell_type": "code",
   "execution_count": 35,
   "id": "15f85c79",
   "metadata": {},
   "outputs": [
    {
     "data": {
      "text/plain": [
       "False"
      ]
     },
     "execution_count": 35,
     "metadata": {},
     "output_type": "execute_result"
    }
   ],
   "source": [
    "sequence_checker(\"these strings are almost identical\", \"these strings are almost idenTical\")"
   ]
  },
  {
   "cell_type": "markdown",
   "id": "77810238-547b-4235-9818-45a63d0bb87b",
   "metadata": {},
   "source": [
    "### 3.5 - (Extension) Iteration\n",
    "Write a piece of code which calculates change to be given from an input amount in £. To start you off, we've given you a list of denominations of UK currency."
   ]
  },
  {
   "cell_type": "code",
   "execution_count": 49,
   "id": "c11298e7-384f-4552-9b29-1044fd0508c1",
   "metadata": {},
   "outputs": [],
   "source": [
    "denoms = [50, 20, 10, 5, 2, 1, 0.5, 0.2, 0.1, 0.05, 0.02, 0.01]"
   ]
  },
  {
   "cell_type": "code",
   "execution_count": 57,
   "id": "8f25a35f",
   "metadata": {},
   "outputs": [
    {
     "data": {
      "text/plain": [
       "'2 times £50, 1 times £20, 1 times £5'"
      ]
     },
     "execution_count": 57,
     "metadata": {},
     "output_type": "execute_result"
    }
   ],
   "source": [
    "def common_calc(sum, denom):\n",
    "    change = int(sum / denom)\n",
    "    sum = sum - (denom * int(sum / denom))\n",
    "    return sum, change\n",
    "\n",
    "def change_calculator(sum):\n",
    "    change = \"\"\n",
    "    for denom in denoms:\n",
    "        s, c = common_calc(sum, denom)\n",
    "        if c != 0:\n",
    "            change += f\"{str(int(sum / denom))} times £{denom}, \"\n",
    "        sum = s\n",
    "    return change[0:-2]\n",
    "                 \n"
   ]
  },
  {
   "cell_type": "code",
   "execution_count": 58,
   "id": "96db2683",
   "metadata": {},
   "outputs": [
    {
     "data": {
      "text/plain": [
       "'2 times £50, 1 times £20, 1 times £5, 1 times £2, 1 times £1, 1 times £0.5'"
      ]
     },
     "execution_count": 58,
     "metadata": {},
     "output_type": "execute_result"
    }
   ],
   "source": [
    "change_calculator(125)\n",
    "change_calculator(128.5)"
   ]
  },
  {
   "cell_type": "markdown",
   "id": "d7188436-718e-4f03-a89e-cadab49e5194",
   "metadata": {},
   "source": [
    "## Exercise 4 - Numpy"
   ]
  },
  {
   "cell_type": "code",
   "execution_count": 60,
   "id": "73821a6c-0480-4d15-89cd-0d9cde94faf8",
   "metadata": {},
   "outputs": [],
   "source": [
    "# import necessary libraries\n",
    "import numpy as np"
   ]
  },
  {
   "cell_type": "code",
   "execution_count": 61,
   "id": "87911299-c3b8-48d8-9b1f-fe35b34e47d9",
   "metadata": {},
   "outputs": [
    {
     "data": {
      "text/plain": [
       "array([0, 1, 2, 3, 4, 5, 6, 7, 8, 9])"
      ]
     },
     "execution_count": 61,
     "metadata": {},
     "output_type": "execute_result"
    }
   ],
   "source": [
    "# create data to work with \n",
    "x = np.arange(10)\n",
    "x"
   ]
  },
  {
   "cell_type": "markdown",
   "id": "f8c2a3f2-a021-4cb1-8cde-867bb268c852",
   "metadata": {},
   "source": [
    "Display the first 5 elements."
   ]
  },
  {
   "cell_type": "code",
   "execution_count": null,
   "id": "2789ba58-dd77-41d3-aca3-417d58e17ae0",
   "metadata": {},
   "outputs": [],
   "source": [
    "x[0:5]"
   ]
  },
  {
   "cell_type": "markdown",
   "id": "ce8a58b5-b78a-40e4-9335-79a570bb4087",
   "metadata": {},
   "source": [
    "Display every other element."
   ]
  },
  {
   "cell_type": "code",
   "execution_count": 62,
   "id": "145ae1e0-a892-4032-939f-fb57fc703872",
   "metadata": {},
   "outputs": [
    {
     "name": "stdout",
     "output_type": "stream",
     "text": [
      "List after n=2nd element access\n",
      "[0 2 4 6 8]\n"
     ]
    }
   ],
   "source": [
    "length = len(x)\n",
    " \n",
    "print(\"List after n=2nd element access\")\n",
    "print(x[0:length:2])"
   ]
  },
  {
   "cell_type": "markdown",
   "id": "d130b657-1918-4d74-97ce-29a554beb08b",
   "metadata": {},
   "source": [
    "Display the elements from index 5 in reverse order."
   ]
  },
  {
   "cell_type": "code",
   "execution_count": 93,
   "id": "6fd105c3-e3d3-48b6-893b-957c0fc3d533",
   "metadata": {},
   "outputs": [
    {
     "data": {
      "text/plain": [
       "array([5, 4, 3, 2, 1, 0])"
      ]
     },
     "execution_count": 93,
     "metadata": {},
     "output_type": "execute_result"
    }
   ],
   "source": [
    "np.flip(x[5:])\n",
    "# x[5::-1]"
   ]
  },
  {
   "cell_type": "code",
   "execution_count": 70,
   "id": "7695d39f-0acb-460d-b7a8-c2c9b3de6ec4",
   "metadata": {},
   "outputs": [],
   "source": [
    "# two dimensional array\n",
    "y = np.array([[12,  5,  2,  4],\n",
    "       [ 7,  6,  8,  8],\n",
    "       [ 1,  6,  7,  7]])"
   ]
  },
  {
   "cell_type": "markdown",
   "id": "657e3744-8931-4370-9ded-ba250e849bf4",
   "metadata": {},
   "source": [
    "Display the first 2 rows and the first 3 columns."
   ]
  },
  {
   "cell_type": "code",
   "execution_count": 73,
   "id": "e6597a1e-1dfa-4dcd-9edb-e5eee1e5cd0e",
   "metadata": {},
   "outputs": [
    {
     "data": {
      "text/plain": [
       "array([[12,  5,  2],\n",
       "       [ 7,  6,  8]])"
      ]
     },
     "execution_count": 73,
     "metadata": {},
     "output_type": "execute_result"
    }
   ],
   "source": [
    "y[:2, :3]"
   ]
  },
  {
   "cell_type": "markdown",
   "id": "d682cda8-61d3-4b9a-a4ca-b08b558277f3",
   "metadata": {},
   "source": [
    "Read the contents of file cdc_nan.csv, containing heights, weights and ages, into array data. **Hint: `np.genfromtxt`**"
   ]
  },
  {
   "cell_type": "code",
   "execution_count": 81,
   "id": "575e038f-283d-4fc3-9dc9-ae862d9e72be",
   "metadata": {},
   "outputs": [],
   "source": [
    "data = np.genfromtxt(\"data/cdc.csv\", delimiter=\",\", skip_header=1)"
   ]
  },
  {
   "cell_type": "markdown",
   "id": "65d55c6e-e37f-43af-a30a-a920d13f62a4",
   "metadata": {},
   "source": [
    "Separate the heights (column 0) and the weights (column 1)"
   ]
  },
  {
   "cell_type": "code",
   "execution_count": 87,
   "id": "b5a9fc5a-5350-4050-a652-73ef872b1604",
   "metadata": {},
   "outputs": [
    {
     "data": {
      "text/plain": [
       "array([175., 125., 105., ..., 216., 165., 170.])"
      ]
     },
     "execution_count": 87,
     "metadata": {},
     "output_type": "execute_result"
    }
   ],
   "source": [
    "heights = data[:,5]\n",
    "heights\n",
    "weights = data[:,6]\n",
    "weights\n"
   ]
  },
  {
   "cell_type": "markdown",
   "id": "4a2a1cc0-9f10-4caa-a79a-bb39b6f1d547",
   "metadata": {},
   "source": [
    "Calculate the median for the heights and the weights and assign the values to variables."
   ]
  },
  {
   "cell_type": "code",
   "execution_count": 91,
   "id": "74bc7156-f627-4b9e-8674-4e49097ef7c4",
   "metadata": {},
   "outputs": [
    {
     "name": "stdout",
     "output_type": "stream",
     "text": [
      "median_heights 67.0\n",
      "median_weights 165.0\n"
     ]
    }
   ],
   "source": [
    "median_heights = np.median(heights)\n",
    "print(f\"median_heights {median_heights}\")\n",
    "median_weights = np.median(weights)\n",
    "print(f\"median_weights {median_weights}\")"
   ]
  },
  {
   "cell_type": "markdown",
   "id": "50fb3109-3b81-4119-9253-85f3eb6ae37a",
   "metadata": {},
   "source": [
    "## Exercise 5 - Pandas"
   ]
  },
  {
   "cell_type": "markdown",
   "id": "cb8e53b6-01c9-473e-8181-0d640c801b30",
   "metadata": {},
   "source": [
    "Read the file `mortgage_applicants.csv`, which sits in the `data` folder, into a variable called `mortgage`.\n",
    "\n",
    "**Hint: Your path will need to reflect the location of the file**"
   ]
  },
  {
   "cell_type": "code",
   "execution_count": 95,
   "id": "e71237f7-74a9-4c6d-9f31-39bf7df3e680",
   "metadata": {},
   "outputs": [
    {
     "data": {
      "text/html": [
       "<div>\n",
       "<style scoped>\n",
       "    .dataframe tbody tr th:only-of-type {\n",
       "        vertical-align: middle;\n",
       "    }\n",
       "\n",
       "    .dataframe tbody tr th {\n",
       "        vertical-align: top;\n",
       "    }\n",
       "\n",
       "    .dataframe thead th {\n",
       "        text-align: right;\n",
       "    }\n",
       "</style>\n",
       "<table border=\"1\" class=\"dataframe\">\n",
       "  <thead>\n",
       "    <tr style=\"text-align: right;\">\n",
       "      <th></th>\n",
       "      <th>Unnamed: 0</th>\n",
       "      <th>ID</th>\n",
       "      <th>Income</th>\n",
       "      <th>Term</th>\n",
       "      <th>Balance</th>\n",
       "      <th>Debt</th>\n",
       "      <th>Score</th>\n",
       "      <th>Default</th>\n",
       "    </tr>\n",
       "  </thead>\n",
       "  <tbody>\n",
       "    <tr>\n",
       "      <th>0</th>\n",
       "      <td>0</td>\n",
       "      <td>567</td>\n",
       "      <td>17626</td>\n",
       "      <td>10 Years</td>\n",
       "      <td>1381</td>\n",
       "      <td>293</td>\n",
       "      <td>228.0</td>\n",
       "      <td>False</td>\n",
       "    </tr>\n",
       "    <tr>\n",
       "      <th>1</th>\n",
       "      <td>1</td>\n",
       "      <td>523</td>\n",
       "      <td>18959</td>\n",
       "      <td>20 Years</td>\n",
       "      <td>883</td>\n",
       "      <td>1012</td>\n",
       "      <td>187.0</td>\n",
       "      <td>False</td>\n",
       "    </tr>\n",
       "    <tr>\n",
       "      <th>2</th>\n",
       "      <td>2</td>\n",
       "      <td>544</td>\n",
       "      <td>20560</td>\n",
       "      <td>10 Years</td>\n",
       "      <td>684</td>\n",
       "      <td>898</td>\n",
       "      <td>86.0</td>\n",
       "      <td>False</td>\n",
       "    </tr>\n",
       "    <tr>\n",
       "      <th>3</th>\n",
       "      <td>3</td>\n",
       "      <td>370</td>\n",
       "      <td>21894</td>\n",
       "      <td>10 Years</td>\n",
       "      <td>748</td>\n",
       "      <td>85</td>\n",
       "      <td>NaN</td>\n",
       "      <td>False</td>\n",
       "    </tr>\n",
       "    <tr>\n",
       "      <th>4</th>\n",
       "      <td>4</td>\n",
       "      <td>756</td>\n",
       "      <td>24430</td>\n",
       "      <td>10 Years</td>\n",
       "      <td>1224</td>\n",
       "      <td>59</td>\n",
       "      <td>504.0</td>\n",
       "      <td>False</td>\n",
       "    </tr>\n",
       "    <tr>\n",
       "      <th>...</th>\n",
       "      <td>...</td>\n",
       "      <td>...</td>\n",
       "      <td>...</td>\n",
       "      <td>...</td>\n",
       "      <td>...</td>\n",
       "      <td>...</td>\n",
       "      <td>...</td>\n",
       "      <td>...</td>\n",
       "    </tr>\n",
       "    <tr>\n",
       "      <th>851</th>\n",
       "      <td>851</td>\n",
       "      <td>71</td>\n",
       "      <td>30191</td>\n",
       "      <td>20 Years</td>\n",
       "      <td>1319</td>\n",
       "      <td>3880</td>\n",
       "      <td>55.0</td>\n",
       "      <td>True</td>\n",
       "    </tr>\n",
       "    <tr>\n",
       "      <th>852</th>\n",
       "      <td>852</td>\n",
       "      <td>932</td>\n",
       "      <td>41669</td>\n",
       "      <td>20 Years</td>\n",
       "      <td>1385</td>\n",
       "      <td>32</td>\n",
       "      <td>780.0</td>\n",
       "      <td>False</td>\n",
       "    </tr>\n",
       "    <tr>\n",
       "      <th>853</th>\n",
       "      <td>853</td>\n",
       "      <td>39</td>\n",
       "      <td>36816</td>\n",
       "      <td>20 Years</td>\n",
       "      <td>1868</td>\n",
       "      <td>3123</td>\n",
       "      <td>366.0</td>\n",
       "      <td>True</td>\n",
       "    </tr>\n",
       "    <tr>\n",
       "      <th>854</th>\n",
       "      <td>854</td>\n",
       "      <td>283</td>\n",
       "      <td>42145</td>\n",
       "      <td>20 Years</td>\n",
       "      <td>1447</td>\n",
       "      <td>2498</td>\n",
       "      <td>422.0</td>\n",
       "      <td>False</td>\n",
       "    </tr>\n",
       "    <tr>\n",
       "      <th>855</th>\n",
       "      <td>855</td>\n",
       "      <td>847</td>\n",
       "      <td>30594</td>\n",
       "      <td>20 Years</td>\n",
       "      <td>1216</td>\n",
       "      <td>2473</td>\n",
       "      <td>179.0</td>\n",
       "      <td>True</td>\n",
       "    </tr>\n",
       "  </tbody>\n",
       "</table>\n",
       "<p>856 rows × 8 columns</p>\n",
       "</div>"
      ],
      "text/plain": [
       "     Unnamed: 0   ID  Income      Term  Balance  Debt  Score  Default\n",
       "0             0  567   17626  10 Years     1381   293  228.0    False\n",
       "1             1  523   18959  20 Years      883  1012  187.0    False\n",
       "2             2  544   20560  10 Years      684   898   86.0    False\n",
       "3             3  370   21894  10 Years      748    85    NaN    False\n",
       "4             4  756   24430  10 Years     1224    59  504.0    False\n",
       "..          ...  ...     ...       ...      ...   ...    ...      ...\n",
       "851         851   71   30191  20 Years     1319  3880   55.0     True\n",
       "852         852  932   41669  20 Years     1385    32  780.0    False\n",
       "853         853   39   36816  20 Years     1868  3123  366.0     True\n",
       "854         854  283   42145  20 Years     1447  2498  422.0    False\n",
       "855         855  847   30594  20 Years     1216  2473  179.0     True\n",
       "\n",
       "[856 rows x 8 columns]"
      ]
     },
     "execution_count": 95,
     "metadata": {},
     "output_type": "execute_result"
    }
   ],
   "source": [
    "import pandas as pd\n",
    "mortgage = pd.read_csv(\"data/mortgage_applicants.csv\")\n",
    "mortgage"
   ]
  },
  {
   "cell_type": "markdown",
   "id": "26977ccc-d5e7-4c57-8c6a-f54252a38e6f",
   "metadata": {},
   "source": [
    "Select the `Score` column of the `mortgage` DataFrame"
   ]
  },
  {
   "cell_type": "code",
   "execution_count": 96,
   "id": "8bb9bafe-8662-449b-ab9b-7d7d6947d94a",
   "metadata": {},
   "outputs": [
    {
     "data": {
      "text/plain": [
       "0      228.0\n",
       "1      187.0\n",
       "2       86.0\n",
       "3        NaN\n",
       "4      504.0\n",
       "       ...  \n",
       "851     55.0\n",
       "852    780.0\n",
       "853    366.0\n",
       "854    422.0\n",
       "855    179.0\n",
       "Name: Score, Length: 856, dtype: float64"
      ]
     },
     "execution_count": 96,
     "metadata": {},
     "output_type": "execute_result"
    }
   ],
   "source": [
    "mortgage[\"Score\"]"
   ]
  },
  {
   "cell_type": "markdown",
   "id": "2baecf75-cbcc-4586-822a-32f893899efa",
   "metadata": {},
   "source": [
    "Select the `Balance` and `Income` columns"
   ]
  },
  {
   "cell_type": "code",
   "execution_count": 98,
   "id": "7ef46e8e-caec-4a25-80c0-9bd39b77509a",
   "metadata": {},
   "outputs": [
    {
     "data": {
      "text/html": [
       "<div>\n",
       "<style scoped>\n",
       "    .dataframe tbody tr th:only-of-type {\n",
       "        vertical-align: middle;\n",
       "    }\n",
       "\n",
       "    .dataframe tbody tr th {\n",
       "        vertical-align: top;\n",
       "    }\n",
       "\n",
       "    .dataframe thead th {\n",
       "        text-align: right;\n",
       "    }\n",
       "</style>\n",
       "<table border=\"1\" class=\"dataframe\">\n",
       "  <thead>\n",
       "    <tr style=\"text-align: right;\">\n",
       "      <th></th>\n",
       "      <th>Balance</th>\n",
       "      <th>Income</th>\n",
       "    </tr>\n",
       "  </thead>\n",
       "  <tbody>\n",
       "    <tr>\n",
       "      <th>0</th>\n",
       "      <td>1381</td>\n",
       "      <td>17626</td>\n",
       "    </tr>\n",
       "    <tr>\n",
       "      <th>1</th>\n",
       "      <td>883</td>\n",
       "      <td>18959</td>\n",
       "    </tr>\n",
       "    <tr>\n",
       "      <th>2</th>\n",
       "      <td>684</td>\n",
       "      <td>20560</td>\n",
       "    </tr>\n",
       "    <tr>\n",
       "      <th>3</th>\n",
       "      <td>748</td>\n",
       "      <td>21894</td>\n",
       "    </tr>\n",
       "    <tr>\n",
       "      <th>4</th>\n",
       "      <td>1224</td>\n",
       "      <td>24430</td>\n",
       "    </tr>\n",
       "    <tr>\n",
       "      <th>...</th>\n",
       "      <td>...</td>\n",
       "      <td>...</td>\n",
       "    </tr>\n",
       "    <tr>\n",
       "      <th>851</th>\n",
       "      <td>1319</td>\n",
       "      <td>30191</td>\n",
       "    </tr>\n",
       "    <tr>\n",
       "      <th>852</th>\n",
       "      <td>1385</td>\n",
       "      <td>41669</td>\n",
       "    </tr>\n",
       "    <tr>\n",
       "      <th>853</th>\n",
       "      <td>1868</td>\n",
       "      <td>36816</td>\n",
       "    </tr>\n",
       "    <tr>\n",
       "      <th>854</th>\n",
       "      <td>1447</td>\n",
       "      <td>42145</td>\n",
       "    </tr>\n",
       "    <tr>\n",
       "      <th>855</th>\n",
       "      <td>1216</td>\n",
       "      <td>30594</td>\n",
       "    </tr>\n",
       "  </tbody>\n",
       "</table>\n",
       "<p>856 rows × 2 columns</p>\n",
       "</div>"
      ],
      "text/plain": [
       "     Balance  Income\n",
       "0       1381   17626\n",
       "1        883   18959\n",
       "2        684   20560\n",
       "3        748   21894\n",
       "4       1224   24430\n",
       "..       ...     ...\n",
       "851     1319   30191\n",
       "852     1385   41669\n",
       "853     1868   36816\n",
       "854     1447   42145\n",
       "855     1216   30594\n",
       "\n",
       "[856 rows x 2 columns]"
      ]
     },
     "execution_count": 98,
     "metadata": {},
     "output_type": "execute_result"
    }
   ],
   "source": [
    "mortgage[[\"Balance\", \"Income\"]]"
   ]
  },
  {
   "cell_type": "markdown",
   "id": "ccaa7f0d-7419-4016-9ab7-1c7075a131c9",
   "metadata": {},
   "source": [
    "Select the first row in the mortgage DataFrame"
   ]
  },
  {
   "cell_type": "code",
   "execution_count": 105,
   "id": "a6ef095d-173c-4fca-8c77-03f1cf123d0a",
   "metadata": {},
   "outputs": [
    {
     "data": {
      "text/plain": [
       "Unnamed: 0           0\n",
       "ID                 567\n",
       "Income           17626\n",
       "Term          10 Years\n",
       "Balance           1381\n",
       "Debt               293\n",
       "Score            228.0\n",
       "Default          False\n",
       "Name: 0, dtype: object"
      ]
     },
     "execution_count": 105,
     "metadata": {},
     "output_type": "execute_result"
    }
   ],
   "source": [
    "mortgage.iloc[0, :]"
   ]
  },
  {
   "cell_type": "markdown",
   "id": "7096f3c1-15d9-447f-8517-7610039d401c",
   "metadata": {},
   "source": [
    "Display all mortgage applicants who have a `Balance` greater than £1000"
   ]
  },
  {
   "cell_type": "code",
   "execution_count": 109,
   "id": "d80f98e4-1782-4968-a30e-c697483b76ad",
   "metadata": {},
   "outputs": [
    {
     "data": {
      "text/html": [
       "<div>\n",
       "<style scoped>\n",
       "    .dataframe tbody tr th:only-of-type {\n",
       "        vertical-align: middle;\n",
       "    }\n",
       "\n",
       "    .dataframe tbody tr th {\n",
       "        vertical-align: top;\n",
       "    }\n",
       "\n",
       "    .dataframe thead th {\n",
       "        text-align: right;\n",
       "    }\n",
       "</style>\n",
       "<table border=\"1\" class=\"dataframe\">\n",
       "  <thead>\n",
       "    <tr style=\"text-align: right;\">\n",
       "      <th></th>\n",
       "      <th>Unnamed: 0</th>\n",
       "      <th>ID</th>\n",
       "      <th>Income</th>\n",
       "      <th>Term</th>\n",
       "      <th>Balance</th>\n",
       "      <th>Debt</th>\n",
       "      <th>Score</th>\n",
       "      <th>Default</th>\n",
       "    </tr>\n",
       "  </thead>\n",
       "  <tbody>\n",
       "    <tr>\n",
       "      <th>0</th>\n",
       "      <td>0</td>\n",
       "      <td>567</td>\n",
       "      <td>17626</td>\n",
       "      <td>10 Years</td>\n",
       "      <td>1381</td>\n",
       "      <td>293</td>\n",
       "      <td>228.0</td>\n",
       "      <td>False</td>\n",
       "    </tr>\n",
       "    <tr>\n",
       "      <th>4</th>\n",
       "      <td>4</td>\n",
       "      <td>756</td>\n",
       "      <td>24430</td>\n",
       "      <td>10 Years</td>\n",
       "      <td>1224</td>\n",
       "      <td>59</td>\n",
       "      <td>504.0</td>\n",
       "      <td>False</td>\n",
       "    </tr>\n",
       "    <tr>\n",
       "      <th>5</th>\n",
       "      <td>5</td>\n",
       "      <td>929</td>\n",
       "      <td>22995</td>\n",
       "      <td>20 Years</td>\n",
       "      <td>1678</td>\n",
       "      <td>1329</td>\n",
       "      <td>384.0</td>\n",
       "      <td>False</td>\n",
       "    </tr>\n",
       "    <tr>\n",
       "      <th>6</th>\n",
       "      <td>6</td>\n",
       "      <td>373</td>\n",
       "      <td>21124</td>\n",
       "      <td>10 Years</td>\n",
       "      <td>1135</td>\n",
       "      <td>115</td>\n",
       "      <td>560.0</td>\n",
       "      <td>False</td>\n",
       "    </tr>\n",
       "    <tr>\n",
       "      <th>7</th>\n",
       "      <td>7</td>\n",
       "      <td>818</td>\n",
       "      <td>24644</td>\n",
       "      <td>10 Years</td>\n",
       "      <td>1634</td>\n",
       "      <td>105</td>\n",
       "      <td>309.0</td>\n",
       "      <td>False</td>\n",
       "    </tr>\n",
       "    <tr>\n",
       "      <th>...</th>\n",
       "      <td>...</td>\n",
       "      <td>...</td>\n",
       "      <td>...</td>\n",
       "      <td>...</td>\n",
       "      <td>...</td>\n",
       "      <td>...</td>\n",
       "      <td>...</td>\n",
       "      <td>...</td>\n",
       "    </tr>\n",
       "    <tr>\n",
       "      <th>851</th>\n",
       "      <td>851</td>\n",
       "      <td>71</td>\n",
       "      <td>30191</td>\n",
       "      <td>20 Years</td>\n",
       "      <td>1319</td>\n",
       "      <td>3880</td>\n",
       "      <td>55.0</td>\n",
       "      <td>True</td>\n",
       "    </tr>\n",
       "    <tr>\n",
       "      <th>852</th>\n",
       "      <td>852</td>\n",
       "      <td>932</td>\n",
       "      <td>41669</td>\n",
       "      <td>20 Years</td>\n",
       "      <td>1385</td>\n",
       "      <td>32</td>\n",
       "      <td>780.0</td>\n",
       "      <td>False</td>\n",
       "    </tr>\n",
       "    <tr>\n",
       "      <th>853</th>\n",
       "      <td>853</td>\n",
       "      <td>39</td>\n",
       "      <td>36816</td>\n",
       "      <td>20 Years</td>\n",
       "      <td>1868</td>\n",
       "      <td>3123</td>\n",
       "      <td>366.0</td>\n",
       "      <td>True</td>\n",
       "    </tr>\n",
       "    <tr>\n",
       "      <th>854</th>\n",
       "      <td>854</td>\n",
       "      <td>283</td>\n",
       "      <td>42145</td>\n",
       "      <td>20 Years</td>\n",
       "      <td>1447</td>\n",
       "      <td>2498</td>\n",
       "      <td>422.0</td>\n",
       "      <td>False</td>\n",
       "    </tr>\n",
       "    <tr>\n",
       "      <th>855</th>\n",
       "      <td>855</td>\n",
       "      <td>847</td>\n",
       "      <td>30594</td>\n",
       "      <td>20 Years</td>\n",
       "      <td>1216</td>\n",
       "      <td>2473</td>\n",
       "      <td>179.0</td>\n",
       "      <td>True</td>\n",
       "    </tr>\n",
       "  </tbody>\n",
       "</table>\n",
       "<p>543 rows × 8 columns</p>\n",
       "</div>"
      ],
      "text/plain": [
       "     Unnamed: 0   ID  Income      Term  Balance  Debt  Score  Default\n",
       "0             0  567   17626  10 Years     1381   293  228.0    False\n",
       "4             4  756   24430  10 Years     1224    59  504.0    False\n",
       "5             5  929   22995  20 Years     1678  1329  384.0    False\n",
       "6             6  373   21124  10 Years     1135   115  560.0    False\n",
       "7             7  818   24644  10 Years     1634   105  309.0    False\n",
       "..          ...  ...     ...       ...      ...   ...    ...      ...\n",
       "851         851   71   30191  20 Years     1319  3880   55.0     True\n",
       "852         852  932   41669  20 Years     1385    32  780.0    False\n",
       "853         853   39   36816  20 Years     1868  3123  366.0     True\n",
       "854         854  283   42145  20 Years     1447  2498  422.0    False\n",
       "855         855  847   30594  20 Years     1216  2473  179.0     True\n",
       "\n",
       "[543 rows x 8 columns]"
      ]
     },
     "execution_count": 109,
     "metadata": {},
     "output_type": "execute_result"
    }
   ],
   "source": [
    "mortgage[(mortgage[\"Balance\"] > 1000)]"
   ]
  },
  {
   "cell_type": "markdown",
   "id": "e05df582-f3f8-4032-92b5-eebcf4bf4631",
   "metadata": {},
   "source": [
    "Display all mortgage applicants who have a `Balance` greater than £1000 and a `Debt` below £50"
   ]
  },
  {
   "cell_type": "code",
   "execution_count": 111,
   "id": "30ea4f03-6e2f-47fb-b71c-7e74bf10a478",
   "metadata": {},
   "outputs": [
    {
     "data": {
      "text/html": [
       "<div>\n",
       "<style scoped>\n",
       "    .dataframe tbody tr th:only-of-type {\n",
       "        vertical-align: middle;\n",
       "    }\n",
       "\n",
       "    .dataframe tbody tr th {\n",
       "        vertical-align: top;\n",
       "    }\n",
       "\n",
       "    .dataframe thead th {\n",
       "        text-align: right;\n",
       "    }\n",
       "</style>\n",
       "<table border=\"1\" class=\"dataframe\">\n",
       "  <thead>\n",
       "    <tr style=\"text-align: right;\">\n",
       "      <th></th>\n",
       "      <th>Unnamed: 0</th>\n",
       "      <th>ID</th>\n",
       "      <th>Income</th>\n",
       "      <th>Term</th>\n",
       "      <th>Balance</th>\n",
       "      <th>Debt</th>\n",
       "      <th>Score</th>\n",
       "      <th>Default</th>\n",
       "    </tr>\n",
       "  </thead>\n",
       "  <tbody>\n",
       "    <tr>\n",
       "      <th>12</th>\n",
       "      <td>12</td>\n",
       "      <td>327</td>\n",
       "      <td>18630</td>\n",
       "      <td>20 Years</td>\n",
       "      <td>1316</td>\n",
       "      <td>37</td>\n",
       "      <td>430.0</td>\n",
       "      <td>False</td>\n",
       "    </tr>\n",
       "    <tr>\n",
       "      <th>54</th>\n",
       "      <td>54</td>\n",
       "      <td>608</td>\n",
       "      <td>25267</td>\n",
       "      <td>10 Years</td>\n",
       "      <td>1308</td>\n",
       "      <td>2</td>\n",
       "      <td>470.0</td>\n",
       "      <td>False</td>\n",
       "    </tr>\n",
       "    <tr>\n",
       "      <th>56</th>\n",
       "      <td>56</td>\n",
       "      <td>67</td>\n",
       "      <td>20528</td>\n",
       "      <td>10 Years</td>\n",
       "      <td>1253</td>\n",
       "      <td>40</td>\n",
       "      <td>511.0</td>\n",
       "      <td>False</td>\n",
       "    </tr>\n",
       "    <tr>\n",
       "      <th>59</th>\n",
       "      <td>59</td>\n",
       "      <td>316</td>\n",
       "      <td>16142</td>\n",
       "      <td>10 Years</td>\n",
       "      <td>1251</td>\n",
       "      <td>12</td>\n",
       "      <td>281.0</td>\n",
       "      <td>False</td>\n",
       "    </tr>\n",
       "    <tr>\n",
       "      <th>66</th>\n",
       "      <td>66</td>\n",
       "      <td>472</td>\n",
       "      <td>19400</td>\n",
       "      <td>10 Years</td>\n",
       "      <td>1292</td>\n",
       "      <td>24</td>\n",
       "      <td>235.0</td>\n",
       "      <td>False</td>\n",
       "    </tr>\n",
       "    <tr>\n",
       "      <th>...</th>\n",
       "      <td>...</td>\n",
       "      <td>...</td>\n",
       "      <td>...</td>\n",
       "      <td>...</td>\n",
       "      <td>...</td>\n",
       "      <td>...</td>\n",
       "      <td>...</td>\n",
       "      <td>...</td>\n",
       "    </tr>\n",
       "    <tr>\n",
       "      <th>841</th>\n",
       "      <td>841</td>\n",
       "      <td>575</td>\n",
       "      <td>36132</td>\n",
       "      <td>10 Years</td>\n",
       "      <td>1596</td>\n",
       "      <td>1</td>\n",
       "      <td>992.0</td>\n",
       "      <td>False</td>\n",
       "    </tr>\n",
       "    <tr>\n",
       "      <th>842</th>\n",
       "      <td>842</td>\n",
       "      <td>324</td>\n",
       "      <td>23597</td>\n",
       "      <td>20 Years</td>\n",
       "      <td>1419</td>\n",
       "      <td>6</td>\n",
       "      <td>465.0</td>\n",
       "      <td>False</td>\n",
       "    </tr>\n",
       "    <tr>\n",
       "      <th>847</th>\n",
       "      <td>847</td>\n",
       "      <td>96</td>\n",
       "      <td>26553</td>\n",
       "      <td>20 Years</td>\n",
       "      <td>1805</td>\n",
       "      <td>26</td>\n",
       "      <td>491.0</td>\n",
       "      <td>False</td>\n",
       "    </tr>\n",
       "    <tr>\n",
       "      <th>850</th>\n",
       "      <td>850</td>\n",
       "      <td>627</td>\n",
       "      <td>27676</td>\n",
       "      <td>10 Years</td>\n",
       "      <td>1598</td>\n",
       "      <td>39</td>\n",
       "      <td>445.0</td>\n",
       "      <td>False</td>\n",
       "    </tr>\n",
       "    <tr>\n",
       "      <th>852</th>\n",
       "      <td>852</td>\n",
       "      <td>932</td>\n",
       "      <td>41669</td>\n",
       "      <td>20 Years</td>\n",
       "      <td>1385</td>\n",
       "      <td>32</td>\n",
       "      <td>780.0</td>\n",
       "      <td>False</td>\n",
       "    </tr>\n",
       "  </tbody>\n",
       "</table>\n",
       "<p>119 rows × 8 columns</p>\n",
       "</div>"
      ],
      "text/plain": [
       "     Unnamed: 0   ID  Income      Term  Balance  Debt  Score  Default\n",
       "12           12  327   18630  20 Years     1316    37  430.0    False\n",
       "54           54  608   25267  10 Years     1308     2  470.0    False\n",
       "56           56   67   20528  10 Years     1253    40  511.0    False\n",
       "59           59  316   16142  10 Years     1251    12  281.0    False\n",
       "66           66  472   19400  10 Years     1292    24  235.0    False\n",
       "..          ...  ...     ...       ...      ...   ...    ...      ...\n",
       "841         841  575   36132  10 Years     1596     1  992.0    False\n",
       "842         842  324   23597  20 Years     1419     6  465.0    False\n",
       "847         847   96   26553  20 Years     1805    26  491.0    False\n",
       "850         850  627   27676  10 Years     1598    39  445.0    False\n",
       "852         852  932   41669  20 Years     1385    32  780.0    False\n",
       "\n",
       "[119 rows x 8 columns]"
      ]
     },
     "execution_count": 111,
     "metadata": {},
     "output_type": "execute_result"
    }
   ],
   "source": [
    "mortgage[((mortgage[\"Balance\"] > 1000) & (mortgage[\"Debt\"] < 50))]"
   ]
  },
  {
   "cell_type": "markdown",
   "id": "f783aaba-b8f2-444b-ae47-a305ad8e859b",
   "metadata": {},
   "source": [
    "## Exercise 6 - Visualistion"
   ]
  },
  {
   "cell_type": "markdown",
   "id": "26b963f7-2157-4d95-a392-c799f6da2b2a",
   "metadata": {},
   "source": [
    "Load in the dataset `train_viz.csv`"
   ]
  },
  {
   "cell_type": "code",
   "execution_count": 112,
   "id": "51219e2c-5830-40e3-8cc3-37ef587175fc",
   "metadata": {},
   "outputs": [
    {
     "data": {
      "text/html": [
       "<div>\n",
       "<style scoped>\n",
       "    .dataframe tbody tr th:only-of-type {\n",
       "        vertical-align: middle;\n",
       "    }\n",
       "\n",
       "    .dataframe tbody tr th {\n",
       "        vertical-align: top;\n",
       "    }\n",
       "\n",
       "    .dataframe thead th {\n",
       "        text-align: right;\n",
       "    }\n",
       "</style>\n",
       "<table border=\"1\" class=\"dataframe\">\n",
       "  <thead>\n",
       "    <tr style=\"text-align: right;\">\n",
       "      <th></th>\n",
       "      <th>origin</th>\n",
       "      <th>destination</th>\n",
       "      <th>departure</th>\n",
       "      <th>arrival</th>\n",
       "      <th>vehicle_class</th>\n",
       "      <th>price</th>\n",
       "      <th>fare</th>\n",
       "      <th>duration</th>\n",
       "    </tr>\n",
       "  </thead>\n",
       "  <tbody>\n",
       "    <tr>\n",
       "      <th>0</th>\n",
       "      <td>MADRID</td>\n",
       "      <td>BARCELONA</td>\n",
       "      <td>2019-04-12 07:15:00</td>\n",
       "      <td>2019-04-12 16:37:00</td>\n",
       "      <td>Turista</td>\n",
       "      <td>43.2500</td>\n",
       "      <td>Adulto ida</td>\n",
       "      <td>562</td>\n",
       "    </tr>\n",
       "    <tr>\n",
       "      <th>1</th>\n",
       "      <td>MADRID</td>\n",
       "      <td>SEVILLA</td>\n",
       "      <td>2019-04-12 09:00:00</td>\n",
       "      <td>2019-04-12 11:38:00</td>\n",
       "      <td>Turista</td>\n",
       "      <td>76.3000</td>\n",
       "      <td>Flexible</td>\n",
       "      <td>158</td>\n",
       "    </tr>\n",
       "    <tr>\n",
       "      <th>2</th>\n",
       "      <td>MADRID</td>\n",
       "      <td>SEVILLA</td>\n",
       "      <td>2019-04-12 11:05:00</td>\n",
       "      <td>2019-04-12 13:41:00</td>\n",
       "      <td>Preferente</td>\n",
       "      <td>87.4000</td>\n",
       "      <td>Flexible</td>\n",
       "      <td>156</td>\n",
       "    </tr>\n",
       "    <tr>\n",
       "      <th>3</th>\n",
       "      <td>MADRID</td>\n",
       "      <td>SEVILLA</td>\n",
       "      <td>2019-04-12 12:00:00</td>\n",
       "      <td>2019-04-12 14:32:00</td>\n",
       "      <td>Turista</td>\n",
       "      <td>76.3000</td>\n",
       "      <td>Flexible</td>\n",
       "      <td>152</td>\n",
       "    </tr>\n",
       "    <tr>\n",
       "      <th>4</th>\n",
       "      <td>MADRID</td>\n",
       "      <td>BARCELONA</td>\n",
       "      <td>2019-04-12 12:30:00</td>\n",
       "      <td>2019-04-12 15:30:00</td>\n",
       "      <td>Turista</td>\n",
       "      <td>71.4938</td>\n",
       "      <td>Flexible</td>\n",
       "      <td>180</td>\n",
       "    </tr>\n",
       "    <tr>\n",
       "      <th>...</th>\n",
       "      <td>...</td>\n",
       "      <td>...</td>\n",
       "      <td>...</td>\n",
       "      <td>...</td>\n",
       "      <td>...</td>\n",
       "      <td>...</td>\n",
       "      <td>...</td>\n",
       "      <td>...</td>\n",
       "    </tr>\n",
       "    <tr>\n",
       "      <th>29719</th>\n",
       "      <td>MADRID</td>\n",
       "      <td>SEVILLA</td>\n",
       "      <td>2020-12-02 16:00:00</td>\n",
       "      <td>2020-12-02 18:30:00</td>\n",
       "      <td>Turista</td>\n",
       "      <td>27.0000</td>\n",
       "      <td>Promo +</td>\n",
       "      <td>150</td>\n",
       "    </tr>\n",
       "    <tr>\n",
       "      <th>29720</th>\n",
       "      <td>MADRID</td>\n",
       "      <td>BARCELONA</td>\n",
       "      <td>2020-12-03 09:30:00</td>\n",
       "      <td>2020-12-03 12:34:12</td>\n",
       "      <td>Turista Plus</td>\n",
       "      <td>77.1000</td>\n",
       "      <td>Promo +</td>\n",
       "      <td>184</td>\n",
       "    </tr>\n",
       "    <tr>\n",
       "      <th>29721</th>\n",
       "      <td>MADRID</td>\n",
       "      <td>BARCELONA</td>\n",
       "      <td>2020-12-03 18:30:00</td>\n",
       "      <td>2020-12-03 21:19:48</td>\n",
       "      <td>Turista</td>\n",
       "      <td>108.9000</td>\n",
       "      <td>Flexible</td>\n",
       "      <td>169</td>\n",
       "    </tr>\n",
       "    <tr>\n",
       "      <th>29722</th>\n",
       "      <td>MADRID</td>\n",
       "      <td>BARCELONA</td>\n",
       "      <td>2020-12-03 20:30:00</td>\n",
       "      <td>2020-12-03 23:40:12</td>\n",
       "      <td>Turista</td>\n",
       "      <td>72.9500</td>\n",
       "      <td>Promo +</td>\n",
       "      <td>190</td>\n",
       "    </tr>\n",
       "    <tr>\n",
       "      <th>29723</th>\n",
       "      <td>MADRID</td>\n",
       "      <td>BARCELONA</td>\n",
       "      <td>2020-12-04 06:30:00</td>\n",
       "      <td>2020-12-04 09:19:48</td>\n",
       "      <td>Turista</td>\n",
       "      <td>91.5000</td>\n",
       "      <td>Promo +</td>\n",
       "      <td>169</td>\n",
       "    </tr>\n",
       "  </tbody>\n",
       "</table>\n",
       "<p>29724 rows × 8 columns</p>\n",
       "</div>"
      ],
      "text/plain": [
       "       origin destination            departure              arrival  \\\n",
       "0      MADRID   BARCELONA  2019-04-12 07:15:00  2019-04-12 16:37:00   \n",
       "1      MADRID     SEVILLA  2019-04-12 09:00:00  2019-04-12 11:38:00   \n",
       "2      MADRID     SEVILLA  2019-04-12 11:05:00  2019-04-12 13:41:00   \n",
       "3      MADRID     SEVILLA  2019-04-12 12:00:00  2019-04-12 14:32:00   \n",
       "4      MADRID   BARCELONA  2019-04-12 12:30:00  2019-04-12 15:30:00   \n",
       "...       ...         ...                  ...                  ...   \n",
       "29719  MADRID     SEVILLA  2020-12-02 16:00:00  2020-12-02 18:30:00   \n",
       "29720  MADRID   BARCELONA  2020-12-03 09:30:00  2020-12-03 12:34:12   \n",
       "29721  MADRID   BARCELONA  2020-12-03 18:30:00  2020-12-03 21:19:48   \n",
       "29722  MADRID   BARCELONA  2020-12-03 20:30:00  2020-12-03 23:40:12   \n",
       "29723  MADRID   BARCELONA  2020-12-04 06:30:00  2020-12-04 09:19:48   \n",
       "\n",
       "      vehicle_class     price        fare  duration  \n",
       "0           Turista   43.2500  Adulto ida       562  \n",
       "1           Turista   76.3000    Flexible       158  \n",
       "2        Preferente   87.4000    Flexible       156  \n",
       "3           Turista   76.3000    Flexible       152  \n",
       "4           Turista   71.4938    Flexible       180  \n",
       "...             ...       ...         ...       ...  \n",
       "29719       Turista   27.0000     Promo +       150  \n",
       "29720  Turista Plus   77.1000     Promo +       184  \n",
       "29721       Turista  108.9000    Flexible       169  \n",
       "29722       Turista   72.9500     Promo +       190  \n",
       "29723       Turista   91.5000     Promo +       169  \n",
       "\n",
       "[29724 rows x 8 columns]"
      ]
     },
     "execution_count": 112,
     "metadata": {},
     "output_type": "execute_result"
    }
   ],
   "source": [
    "import pandas as pd\n",
    "train = pd.read_csv(\"data/train_viz.csv\")\n",
    "train"
   ]
  },
  {
   "cell_type": "markdown",
   "id": "51a16fde-8b76-45f1-868c-67c3bbf44f57",
   "metadata": {},
   "source": [
    "Create a scatter plot of `duration` vs. `price`. Segment by `destination`."
   ]
  },
  {
   "cell_type": "code",
   "execution_count": 114,
   "id": "31baf751-43d3-41ec-b910-3d3497795fdb",
   "metadata": {},
   "outputs": [],
   "source": [
    "import  matplotlib.pyplot as plt\n",
    "import seaborn as sns"
   ]
  },
  {
   "cell_type": "code",
   "execution_count": 119,
   "id": "274334c6",
   "metadata": {},
   "outputs": [
    {
     "data": {
      "text/plain": [
       "<Axes: xlabel='duration', ylabel='price'>"
      ]
     },
     "execution_count": 119,
     "metadata": {},
     "output_type": "execute_result"
    },
    {
     "data": {
      "image/png": "[encoded data removed]",
      "text/plain": [
       "<Figure size 640x480 with 1 Axes>"
      ]
     },
     "metadata": {},
     "output_type": "display_data"
    }
   ],
   "source": [
    "sns.scatterplot(data=train, x=\"duration\", y=\"price\", hue=\"destination\")\n",
    "# plt.scatter(train[\"duration\"], train[\"price\"])"
   ]
  },
  {
   "cell_type": "code",
   "execution_count": null,
   "id": "a08877cb",
   "metadata": {},
   "outputs": [],
   "source": []
  }
 ],
 "metadata": {
  "kernelspec": {
   "display_name": "Python 3 (ipykernel)",
   "language": "python",
   "name": "python3"
  },
  "language_info": {
   "codemirror_mode": {
    "name": "ipython",
    "version": 3
   },
   "file_extension": ".py",
   "mimetype": "text/x-python",
   "name": "python",
   "nbconvert_exporter": "python",
   "pygments_lexer": "ipython3",
   "version": "3.11.5"
  }
 },
 "nbformat": 4,
 "nbformat_minor": 5
}
