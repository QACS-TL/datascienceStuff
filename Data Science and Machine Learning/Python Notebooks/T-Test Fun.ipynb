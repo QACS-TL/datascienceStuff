{
 "cells": [
  {
   "cell_type": "code",
   "execution_count": 27,
   "id": "b2dd9504",
   "metadata": {},
   "outputs": [
    {
     "name": "stdout",
     "output_type": "stream",
     "text": [
      "TtestResult(statistic=-3.496431755693144, pvalue=0.0007101500664096605, df=98.0)\n",
      "p value: 0.0007101500664096605\n",
      "Passes test. Accept Hypothesesis\n"
     ]
    }
   ],
   "source": [
    "import pandas as pd\n",
    "from scipy import stats\n",
    "df = pd.read_csv(\"data/investment_performance.csv\")\n",
    "\n",
    "a=stats.ttest_ind(df[\"Control Scores\"],df[\"Experimental Scores\"],0)\n",
    "print(a)\n",
    "print(f\"p value: {a[1]}\")\n",
    "sig_lev = 0.05\n",
    "if a[1] < sig_lev/2:\n",
    "    print(\"Passes test. Accept Hypothesesis\")\n",
    "else:\n",
    "    print(\"Fails test. Reject Hypothesesis\")\n"
   ]
  },
  {
   "cell_type": "code",
   "execution_count": null,
   "id": "2de2971b",
   "metadata": {},
   "outputs": [],
   "source": []
  }
 ],
 "metadata": {
  "kernelspec": {
   "display_name": "Python 3 (ipykernel)",
   "language": "python",
   "name": "python3"
  },
  "language_info": {
   "codemirror_mode": {
    "name": "ipython",
    "version": 3
   },
   "file_extension": ".py",
   "mimetype": "text/x-python",
   "name": "python",
   "nbconvert_exporter": "python",
   "pygments_lexer": "ipython3",
   "version": "3.11.5"
  }
 },
 "nbformat": 4,
 "nbformat_minor": 5
}
